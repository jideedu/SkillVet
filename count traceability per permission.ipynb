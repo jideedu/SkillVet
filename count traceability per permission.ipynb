{
 "cells": [
  {
   "cell_type": "markdown",
   "metadata": {},
   "source": [
    "# Getting Tracebility distribution by permission for the 1759 skills"
   ]
  },
  {
   "cell_type": "code",
   "execution_count": 1,
   "metadata": {},
   "outputs": [],
   "source": [
    "import pandas as pd\n",
    "import collections\n",
    "import pandas as pd\n",
    "\n",
    "df = pd.read_csv('Traceability/data/Manual_Traceability.csv',header=0, encoding='utf-8')\n",
    "# df = df[(df['Traceability']=='b')|(df['Traceability']=='p')]"
   ]
  },
  {
   "cell_type": "markdown",
   "metadata": {},
   "source": [
    "# Finding the number of developers that requested for a Particular Permission"
   ]
  },
  {
   "cell_type": "code",
   "execution_count": 2,
   "metadata": {},
   "outputs": [
    {
     "name": "stdout",
     "output_type": "stream",
     "text": [
      "Number of developer that request for device country and postal code is  330\n",
      "Number of developer that request for device address is  464\n",
      "Number of developer that request for email address is  251\n",
      "Number of developer that request for personal information is  144\n",
      "Number of developer that request for name is  173\n",
      "Number of developer that request for mobile number is  97\n",
      "Number of developer that request for amazon pay is  33\n",
      "Number of developer that request for location services is  90\n",
      "\n"
     ]
    }
   ],
   "source": [
    "import collections\n",
    "count = 0\n",
    "to_replace = [\"[\",\"]\", \"'\"]\n",
    "result = []\n",
    "olderperm = [('Lists Read Access', 'Personal Information'),\n",
    "             ('Lists Write Access', 'Personal Information'),\n",
    "             ('lists write access (2)', 'Personal Information'),\n",
    "             ('First Name', 'Name'),\n",
    "             ('Full Name', 'Name'),\n",
    "             ('Given Name', 'Name'),\n",
    "             ('Device Country and Postcode', 'device country and postal code'),\n",
    "             ('phone number','Mobile Number'),\n",
    "             ('zip', 'device country and postal code'),\n",
    "             ('address','Device Address'),\n",
    "             ('location','Location Services'),\n",
    "             ('birthday', 'Personal Information'),\n",
    "             ('email','Email Address'),\n",
    "             ('area code', 'device country and postal code'),\n",
    "             ('gender', 'Personal Information'),\n",
    "             ('born','Personal Information'),\n",
    "             ('zipcode', 'device country and postal code'),\n",
    "             ('postal code', 'device country and postal code') \n",
    "            ]\n",
    "olderrem = ['alexa notifications', 'skill personisation', 'reminders', 'timer', 'birthday', 'gender']\n",
    "\n",
    "\n",
    "permissions = ['device country and postal code', 'device address', 'email address', 'personal information', 'name', 'mobile number', 'amazon pay','location services']\n",
    "\n",
    "for aperm in permissions:\n",
    "    developers = []\n",
    "    for index,row in df.iterrows():\n",
    "        a = row['Permission']\n",
    "        try:\n",
    "            a = a.split(\",\")\n",
    "        except:\n",
    "            pass\n",
    "        if len(a)> 0:\n",
    "            for mm in a:\n",
    "                for i in to_replace:\n",
    "                    if i in mm:\n",
    "                        mm = mm.replace(i , \"\")\n",
    "\n",
    "                for perm in olderperm:\n",
    "                    if mm.lower().strip() == perm[0].lower():\n",
    "                        mm = perm[1].lower()\n",
    "                if mm.lower().strip() not in olderrem:\n",
    "\n",
    "                    if row['Developer'] not in developers and (mm.strip().lower()) == aperm:\n",
    "                        developers.append(row['Developer'])\n",
    "    \n",
    "    \n",
    "    print ('Number of developer that request for', aperm, 'is ', len(developers))\n",
    "print()            "
   ]
  },
  {
   "cell_type": "markdown",
   "metadata": {},
   "source": [
    "# Finding the number of permission found in Particular Traceability and developers involved"
   ]
  },
  {
   "cell_type": "code",
   "execution_count": 3,
   "metadata": {},
   "outputs": [
    {
     "name": "stdout",
     "output_type": "stream",
     "text": [
      "Permission found in Partial Skills:  Counter({'device address': 130, 'name': 82, 'device country and postal code': 77, 'email address': 76, 'personal information': 41, 'mobile number': 37, 'location services': 31, 'amazon pay': 10, 'timers': 1, 'email address.': 1})\n",
      "\n",
      "Developer with partial traceability is 238\n",
      "\n",
      "Permission found in Complete Skills:  Counter({'device country and postal code': 386, 'device address': 330, 'email address': 253, 'personal information': 216, 'name': 182, 'mobile number': 66, 'amazon pay': 42, 'location services': 36})\n",
      "\n",
      "Developer with complete traceability is 587\n",
      "\n",
      "Permission found in Broken Skills Counter({'device address': 187, 'device country and postal code': 106, 'email address': 99, 'name': 86, 'personal information': 67, 'mobile number': 36, 'location services': 35, 'amazon pay': 5})\n",
      "Developer with broken traceability is 350\n",
      "\n",
      "\n"
     ]
    }
   ],
   "source": [
    "Traceability = ['p','c','b']\n",
    "for trace in Traceability:\n",
    "    result = []\n",
    "    count = 0\n",
    "    developers = set([])\n",
    "    for index,row in df.iterrows():\n",
    "        if (row['Traceability'].lower() == trace):\n",
    "            a = row['Permission']\n",
    "            dev = row['Developer']\n",
    "            developers.add(dev)\n",
    "            \n",
    "            try:\n",
    "                a = a.split(\",\")\n",
    "            except:\n",
    "                pass\n",
    "            if len(a)> 0:\n",
    "                for mm in a:\n",
    "                    for i in to_replace:\n",
    "                        if i in mm:\n",
    "                            mm = mm.replace(i , \"\")\n",
    "\n",
    "                    for perm in olderperm:\n",
    "                        if mm.lower().strip() == perm[0].lower():\n",
    "                            mm = perm[1].lower()\n",
    "                    if mm.lower().strip() not in olderrem:\n",
    "\n",
    "                        result.append(mm.strip().lower())\n",
    "\n",
    "\n",
    "    if trace == 'b':\n",
    "        broken = developers\n",
    "        print ('Permission found in Broken Skills', collections.Counter(result))\n",
    "        print ('Developer with broken traceability is', len(broken))\n",
    "        print()\n",
    "   \n",
    "    if trace == 'c':\n",
    "        complete = developers\n",
    "        print ('Permission found in Complete Skills: ', collections.Counter(result))\n",
    "        print()\n",
    "        print ('Developer with complete traceability is', len(complete))\n",
    "    \n",
    "    if trace == 'p':\n",
    "        partial = developers\n",
    "        print ('Permission found in Partial Skills: ', collections.Counter(result))\n",
    "        print()\n",
    "        print ('Developer with partial traceability is', len(partial))\n",
    "    print()\n",
    "    \n"
   ]
  },
  {
   "cell_type": "code",
   "execution_count": 4,
   "metadata": {},
   "outputs": [
    {
     "name": "stdout",
     "output_type": "stream",
     "text": [
      "{'UK': ['US', 'CA', 'IN', 'AU'], 'CA': 'IN'}\n"
     ]
    }
   ],
   "source": [
    "allm={'UK': ['UP'], 'CA': 'IN'}\n",
    "value = {'UK': ['US', 'CA', 'IN', 'AU']}\n",
    "allm = {**allm, **value}\n",
    "print(allm)"
   ]
  },
  {
   "cell_type": "code",
   "execution_count": 5,
   "metadata": {},
   "outputs": [],
   "source": [
    "    \n",
    "# partial_only = []\n",
    "# broken_only = []\n",
    "# complete_only = []\n",
    "# cp = []\n",
    "# bc = []\n",
    "# pb =[]\n",
    "# pbc=[]\n",
    "# bp = []\n",
    "# pc =[]\n",
    "# cb =[]\n",
    "\n",
    "# for i in partial:\n",
    "#     if i not in broken and i not in complete:\n",
    "#         partial_only.append(i)\n",
    "# print('partial_only', len(partial_only))\n",
    "\n",
    "\n",
    "# for i in broken:\n",
    "#     if i not in partial and i not in complete:\n",
    "#         broken_only.append(i)\n",
    "# print('broken_only', len(broken_only)) \n",
    "\n",
    "\n",
    "# for i in complete:\n",
    "#     if i not in partial and i not in broken:\n",
    "#         complete_only.append(i)\n",
    "# print('complete_only', len(complete_only))\n",
    "\n",
    "\n",
    "\n",
    "# for i in complete:\n",
    "#     if i in complete and i in broken and i in partial:\n",
    "#         pbc.append(i)\n",
    "# print('pbc', len(pbc))\n",
    "\n",
    "\n",
    "# for i in broken:\n",
    "#     if i not in complete and i in partial:\n",
    "#         bp.append(i)\n",
    "# print('bp', len(bp))  \n",
    "\n",
    "# for i in complete:\n",
    "#     if i not in partial and i in broken:\n",
    "#         cb.append(i)\n",
    "# print('cb', len(cb)) \n",
    "\n",
    "\n",
    "# for i in complete:\n",
    "#     if i in partial and i not in broken:\n",
    "#         pc.append(i)\n",
    "# print('pc', len(pc)) \n",
    "\n",
    "# totdev = []\n",
    "# for i in partial:\n",
    "#     totdev.append(i)\n",
    "# for i in broken:\n",
    "#     totdev.append(i)\n",
    "# for i in complete:\n",
    "#     totdev.append(i)\n",
    "\n",
    "# print('total_dev', len(set(totdev)))\n",
    "    \n"
   ]
  },
  {
   "cell_type": "code",
   "execution_count": null,
   "metadata": {},
   "outputs": [],
   "source": []
  }
 ],
 "metadata": {
  "kernelspec": {
   "display_name": "Python 3",
   "language": "python",
   "name": "python3"
  },
  "language_info": {
   "codemirror_mode": {
    "name": "ipython",
    "version": 3
   },
   "file_extension": ".py",
   "mimetype": "text/x-python",
   "name": "python",
   "nbconvert_exporter": "python",
   "pygments_lexer": "ipython3",
   "version": "3.7.6"
  }
 },
 "nbformat": 4,
 "nbformat_minor": 4
}
